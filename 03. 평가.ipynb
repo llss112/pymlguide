{
 "cells": [
  {
   "cell_type": "markdown",
   "metadata": {},
   "source": [
    "정확도"
   ]
  },
  {
   "cell_type": "code",
   "execution_count": 1,
   "metadata": {},
   "outputs": [],
   "source": [
    "from sklearn.base import BaseEstimator\n",
    "\n",
    "class MyDummyClassifier(BaseEstimator):\n",
    "    # fit() 매서드는 아무것도 학습하지 않음\n",
    "    def fit(self,X,y=None):\n",
    "        pass\n",
    "    #predict aotjemsms 피쳐가 1이면 0 그렇지 않으면 0으로 예측함\n",
    "    def predict(self,X):\n",
    "        # 원래 X의 행수만큼 열수는 1인 ndarray를 만들고\n",
    "        pred=np.zeros((X.shape[0],1))\n",
    "        # 행수만큼 반복하는데 행마다 1이면 0 아니면 1로 예측\n",
    "        for i in range(X.shape[0]):\n",
    "            if X['Sex'].iloc[i]==1:\n",
    "                pred[i]=0\n",
    "            else:\n",
    "                pred[i]=1\n",
    "        return pred"
   ]
  },
  {
   "cell_type": "code",
   "execution_count": 2,
   "metadata": {},
   "outputs": [],
   "source": [
    "from sklearn.preprocessing import LabelEncoder\n",
    "\n",
    "\n",
    "def fillna(df):\n",
    "    df['Age'].fillna(df['Age'].mean(),inplace=True)\n",
    "    df['Cabin'].fillna('N',inplace=True)\n",
    "    df['Embarked'].fillna('N',inplace=True)\n",
    "    df[\"Fare\"].fillna(0,inplace=True)\n",
    "    return df\n",
    "\n",
    "def drop_features(df):\n",
    "    df.drop(['PassengerId',\"Name\",'Ticket'],axis=1,\n",
    "            inplace=True)\n",
    "    return df\n",
    "    \n",
    "def format_features(df):\n",
    "    df['Cabin']=df['Cabin'].str[:1]\n",
    "    features=['Cabin','Sex','Embarked']\n",
    "    for feature in features:\n",
    "        le=LabelEncoder()\n",
    "        le=le.fit(df[feature])\n",
    "        df[feature]=le.transform(df[feature])\n",
    "    return df\n",
    "\n",
    "def transform_features(df):\n",
    "    df=fillna(df)\n",
    "    df=drop_features(df)\n",
    "    df=format_features(df)\n",
    "    return df"
   ]
  },
  {
   "cell_type": "code",
   "execution_count": 3,
   "metadata": {},
   "outputs": [
    {
     "name": "stdout",
     "output_type": "stream",
     "text": [
      "Dummy Classifier의 정확도는 :0.7877\n"
     ]
    }
   ],
   "source": [
    "import pandas as pd\n",
    "from sklearn.model_selection import train_test_split\n",
    "from sklearn.metrics import accuracy_score\n",
    "import numpy as np\n",
    "\n",
    "titanic_df=pd.read_csv(r\"D:\\OneDrive\\OneDrive\\취업후\\파이썬\\파이썬 머신러닝 완벽 가이드\\pymlguide\\data\\titanic\\train.csv\")\n",
    "y_titanic_df=titanic_df['Survived']\n",
    "X_titanic_df=titanic_df.drop('Survived',axis=1)\n",
    "X_titanic_df=transform_features(X_titanic_df)\n",
    "X_train,X_test,y_train,y_test=train_test_split(X_titanic_df,y_titanic_df,test_size=0.2,random_state=0)\n",
    "\n",
    "myclf=MyDummyClassifier()\n",
    "myclf.fit(X_train,y_train)\n",
    "\n",
    "mypredictions=myclf.predict(X_test)\n",
    "# :는 포매팅 옵션 그니까 몇번째 자리까지 표시할건지 하는 옵션에서는 쓴다.\n",
    "print('Dummy Classifier의 정확도는 :{0:.4f}'.format(accuracy_score(y_test,mypredictions)))\n",
    "\n"
   ]
  },
  {
   "cell_type": "code",
   "execution_count": 4,
   "metadata": {},
   "outputs": [],
   "source": [
    "from sklearn.datasets import load_digits\n",
    "from sklearn.model_selection import train_test_split\n",
    "from sklearn.base import BaseEstimator\n",
    "from sklearn.metrics import accuracy_score\n",
    "import numpy as np\n",
    "import pandas as pd\n",
    "\n",
    "# 이렇게 BaseEstimator를 상속받으면 사이킷런과의 호환성이 좋아짐\n",
    "class MyFakeClassifier(BaseEstimator):\n",
    "    def fit(self,X,y):\n",
    "        pass\n",
    "#  다 0으로 만들어 반환함\n",
    "    def predict(self,X):\n",
    "        return np.zeros((len(X),1),dtype=bool)\n",
    "    \n",
    "digits=load_digits()\n",
    "\n",
    "# 7이면 1 아니면 0으로 만듬\n",
    "y=(digits.target==7).astype(int)\n",
    "X_train,X_test,y_train,y_test=train_test_split(digits.data,y,random_state=11)\n",
    "    "
   ]
  },
  {
   "cell_type": "code",
   "execution_count": 5,
   "metadata": {},
   "outputs": [
    {
     "name": "stdout",
     "output_type": "stream",
     "text": [
      "레이블 테스트 세트 크기: (450,)\n",
      "테스트 세트 레이블 0과 1의 분포도\n",
      "0    405\n",
      "1     45\n",
      "dtype: int64\n",
      "모든 예측을 0으로 하여도 정확도는 :0.900\n"
     ]
    }
   ],
   "source": [
    "print('레이블 테스트 세트 크기:',y_test.shape)\n",
    "print('테스트 세트 레이블 0과 1의 분포도')\n",
    "print(pd.Series(y_test).value_counts())\n",
    "\n",
    "fakeclf=MyFakeClassifier()\n",
    "fakeclf.fit(X_train,y_train)\n",
    "fakepred=fakeclf.predict(X_test)\n",
    "print('모든 예측을 0으로 하여도 정확도는 :{:.3f}'.format(accuracy_score(y_test,fakepred)))"
   ]
  },
  {
   "cell_type": "code",
   "execution_count": 6,
   "metadata": {},
   "outputs": [
    {
     "data": {
      "text/plain": [
       "array([[405,   0],\n",
       "       [ 45,   0]], dtype=int64)"
      ]
     },
     "execution_count": 6,
     "metadata": {},
     "output_type": "execute_result"
    }
   ],
   "source": [
    "from sklearn.metrics import confusion_matrix\n",
    "\n",
    "confusion_matrix(y_test,fakepred)"
   ]
  },
  {
   "cell_type": "code",
<<<<<<< HEAD
   "execution_count": 7,
=======
   "execution_count": 13,
>>>>>>> 6849384ae92a84150a86780bf1874c39a99ec772
   "metadata": {},
   "outputs": [],
   "source": [
    "from sklearn.metrics import accuracy_score,precision_score,recall_score,confusion_matrix\n",
    "\n",
    "def get_clf_eval(y_test,pred):\n",
    "    confusion=confusion_matrix(y_test,pred)\n",
    "    accuracy=accuracy_score(y_test,pred)\n",
    "    precision=precision_score(y_test,pred)\n",
    "    recall=recall_score(y_test,pred)\n",
    "    print('오차 행렬')\n",
    "    print(confusion)\n",
    "    print('정확도:{0:.4f},정밀도:{1:.4f},재현율:{2:.4f}'.format(accuracy,precision,recall))"
   ]
  },
  {
   "cell_type": "code",
<<<<<<< HEAD
   "execution_count": 8,
   "metadata": {},
   "outputs": [
    {
     "name": "stdout",
     "output_type": "stream",
     "text": [
      "오차 행렬\n",
      "[[108  10]\n",
      " [ 14  47]]\n",
      "정확도:0.8659,정밀도:0.8246,재현율:0.7705\n"
=======
   "execution_count": 1,
   "metadata": {},
   "outputs": [
    {
     "ename": "NameError",
     "evalue": "name 'transform_features' is not defined",
     "output_type": "error",
     "traceback": [
      "\u001b[1;31m---------------------------------------------------------------------------\u001b[0m",
      "\u001b[1;31mNameError\u001b[0m                                 Traceback (most recent call last)",
      "\u001b[1;32m~\\AppData\\Local\\Temp\\ipykernel_14000\\4023690597.py\u001b[0m in \u001b[0;36m<module>\u001b[1;34m\u001b[0m\n\u001b[0;32m      7\u001b[0m \u001b[0my_titanic_df\u001b[0m\u001b[1;33m=\u001b[0m\u001b[0mtitanic_df\u001b[0m\u001b[1;33m[\u001b[0m\u001b[1;34m'Survived'\u001b[0m\u001b[1;33m]\u001b[0m\u001b[1;33m\u001b[0m\u001b[1;33m\u001b[0m\u001b[0m\n\u001b[0;32m      8\u001b[0m \u001b[0mX_titanic_df\u001b[0m\u001b[1;33m=\u001b[0m\u001b[0mtitanic_df\u001b[0m\u001b[1;33m.\u001b[0m\u001b[0mdrop\u001b[0m\u001b[1;33m(\u001b[0m\u001b[1;34m'Survived'\u001b[0m\u001b[1;33m,\u001b[0m\u001b[0maxis\u001b[0m\u001b[1;33m=\u001b[0m\u001b[1;36m1\u001b[0m\u001b[1;33m)\u001b[0m\u001b[1;33m\u001b[0m\u001b[1;33m\u001b[0m\u001b[0m\n\u001b[1;32m----> 9\u001b[1;33m \u001b[0mX_titanic_df\u001b[0m\u001b[1;33m=\u001b[0m\u001b[0mtransform_features\u001b[0m\u001b[1;33m(\u001b[0m\u001b[0mX_titanic_df\u001b[0m\u001b[1;33m)\u001b[0m\u001b[1;33m\u001b[0m\u001b[1;33m\u001b[0m\u001b[0m\n\u001b[0m\u001b[0;32m     10\u001b[0m \u001b[1;33m\u001b[0m\u001b[0m\n\u001b[0;32m     11\u001b[0m \u001b[0mX_train\u001b[0m\u001b[1;33m,\u001b[0m\u001b[0mX_test\u001b[0m\u001b[1;33m,\u001b[0m\u001b[0my_train\u001b[0m\u001b[1;33m,\u001b[0m\u001b[0my_test\u001b[0m\u001b[1;33m=\u001b[0m\u001b[0mtrain_test_split\u001b[0m\u001b[1;33m(\u001b[0m\u001b[0mX_titanic_df\u001b[0m\u001b[1;33m,\u001b[0m\u001b[0my_titanic_df\u001b[0m\u001b[1;33m,\u001b[0m\u001b[0mtest_size\u001b[0m\u001b[1;33m=\u001b[0m\u001b[1;36m0.2\u001b[0m\u001b[1;33m,\u001b[0m\u001b[0mrandom_state\u001b[0m\u001b[1;33m=\u001b[0m\u001b[1;36m11\u001b[0m\u001b[1;33m)\u001b[0m\u001b[1;33m\u001b[0m\u001b[1;33m\u001b[0m\u001b[0m\n",
      "\u001b[1;31mNameError\u001b[0m: name 'transform_features' is not defined"
>>>>>>> 6849384ae92a84150a86780bf1874c39a99ec772
     ]
    }
   ],
   "source": [
    "import pandas as pd\n",
    "from sklearn.model_selection import train_test_split\n",
    "from sklearn.linear_model import LogisticRegression\n",
    "\n",
    "titanic_df=pd.read_csv(r\"D:\\OneDrive\\OneDrive\\취업후\\파이썬\\파이썬 머신러닝 완벽 가이드\\pymlguide\\data\\titanic\\train.csv\")\n",
    "\n",
    "y_titanic_df=titanic_df['Survived']\n",
    "X_titanic_df=titanic_df.drop('Survived',axis=1)\n",
    "X_titanic_df=transform_features(X_titanic_df)\n",
    "\n",
    "X_train,X_test,y_train,y_test=train_test_split(X_titanic_df,y_titanic_df,test_size=0.2,random_state=11)\n",
    "\n",
    "lr_clf=LogisticRegression(solver='liblinear')\n",
    "\n",
    "lr_clf.fit(X_train,y_train)\n",
    "pred=lr_clf.predict(X_test)\n",
    "get_clf_eval(y_test,pred)"
   ]
  },
  {
   "cell_type": "code",
   "execution_count": 15,
   "metadata": {},
   "outputs": [
    {
     "name": "stdout",
     "output_type": "stream",
     "text": [
      "pred_proba()결과 Shape:(179, 2)\n",
      "pred_proba array에서 앞 3개만 샘플로 추출 \n",
      ": [1 0 0]\n",
      "두개의 class중에서 더 큰 확률을 클래스 값으로 예측 \n",
      " [[0.44935227 0.55064773 1.        ]\n",
      " [0.86335512 0.13664488 0.        ]\n",
      " [0.86429645 0.13570355 0.        ]]\n"
     ]
<<<<<<< HEAD
    },
    {
     "name": "stdout",
     "output_type": "stream",
     "text": [
      "pred_proba()결과 Shape:(179, 2)"
     ]
    },
    {
     "ename": "KeyboardInterrupt",
     "evalue": "",
     "output_type": "error",
     "traceback": [
      "\u001b[1;31m---------------------------------------------------------------------------\u001b[0m",
      "\u001b[1;31mKeyboardInterrupt\u001b[0m                         Traceback (most recent call last)",
      "\u001b[1;32m~\\AppData\\Local\\Temp\\ipykernel_20968\\2437670134.py\u001b[0m in \u001b[0;36m<module>\u001b[1;34m\u001b[0m\n\u001b[0;32m      1\u001b[0m \u001b[0mpred_proba\u001b[0m\u001b[1;33m=\u001b[0m\u001b[0mlr_clf\u001b[0m\u001b[1;33m.\u001b[0m\u001b[0mpredict_proba\u001b[0m\u001b[1;33m(\u001b[0m\u001b[0mX_test\u001b[0m\u001b[1;33m)\u001b[0m\u001b[1;33m\u001b[0m\u001b[1;33m\u001b[0m\u001b[0m\n\u001b[0;32m      2\u001b[0m \u001b[0mpred\u001b[0m\u001b[1;33m=\u001b[0m\u001b[0mlr_clf\u001b[0m\u001b[1;33m.\u001b[0m\u001b[0mpredict\u001b[0m\u001b[1;33m(\u001b[0m\u001b[0mX_test\u001b[0m\u001b[1;33m)\u001b[0m\u001b[1;33m\u001b[0m\u001b[1;33m\u001b[0m\u001b[0m\n\u001b[1;32m----> 3\u001b[1;33m \u001b[0mprint\u001b[0m\u001b[1;33m(\u001b[0m\u001b[1;34m'pred_proba()결과 Shape:{0}'\u001b[0m\u001b[1;33m.\u001b[0m\u001b[0mformat\u001b[0m\u001b[1;33m(\u001b[0m\u001b[0mpred_proba\u001b[0m\u001b[1;33m.\u001b[0m\u001b[0mshape\u001b[0m\u001b[1;33m)\u001b[0m\u001b[1;33m)\u001b[0m\u001b[1;33m\u001b[0m\u001b[1;33m\u001b[0m\u001b[0m\n\u001b[0m\u001b[0;32m      4\u001b[0m \u001b[0mprint\u001b[0m\u001b[1;33m(\u001b[0m\u001b[1;34m'pred_proba array에서 앞 3개만 샘플로 추출 \\n:'\u001b[0m\u001b[1;33m,\u001b[0m\u001b[0mpred\u001b[0m\u001b[1;33m[\u001b[0m\u001b[1;33m:\u001b[0m\u001b[1;36m3\u001b[0m\u001b[1;33m]\u001b[0m\u001b[1;33m)\u001b[0m\u001b[1;33m\u001b[0m\u001b[1;33m\u001b[0m\u001b[0m\n\u001b[0;32m      5\u001b[0m \u001b[1;33m\u001b[0m\u001b[0m\n",
      "\u001b[1;32mc:\\Users\\sunggyulee\\anaconda3\\envs\\mcl1\\lib\\site-packages\\ipykernel\\iostream.py\u001b[0m in \u001b[0;36mwrite\u001b[1;34m(self, string)\u001b[0m\n\u001b[0;32m    561\u001b[0m                 \u001b[0mself\u001b[0m\u001b[1;33m.\u001b[0m\u001b[0mpub_thread\u001b[0m\u001b[1;33m.\u001b[0m\u001b[0mschedule\u001b[0m\u001b[1;33m(\u001b[0m\u001b[0mself\u001b[0m\u001b[1;33m.\u001b[0m\u001b[0m_flush\u001b[0m\u001b[1;33m)\u001b[0m\u001b[1;33m\u001b[0m\u001b[1;33m\u001b[0m\u001b[0m\n\u001b[0;32m    562\u001b[0m             \u001b[1;32melse\u001b[0m\u001b[1;33m:\u001b[0m\u001b[1;33m\u001b[0m\u001b[1;33m\u001b[0m\u001b[0m\n\u001b[1;32m--> 563\u001b[1;33m                 \u001b[0mself\u001b[0m\u001b[1;33m.\u001b[0m\u001b[0m_schedule_flush\u001b[0m\u001b[1;33m(\u001b[0m\u001b[1;33m)\u001b[0m\u001b[1;33m\u001b[0m\u001b[1;33m\u001b[0m\u001b[0m\n\u001b[0m\u001b[0;32m    564\u001b[0m \u001b[1;33m\u001b[0m\u001b[0m\n\u001b[0;32m    565\u001b[0m         \u001b[1;32mreturn\u001b[0m \u001b[0mlen\u001b[0m\u001b[1;33m(\u001b[0m\u001b[0mstring\u001b[0m\u001b[1;33m)\u001b[0m\u001b[1;33m\u001b[0m\u001b[1;33m\u001b[0m\u001b[0m\n",
      "\u001b[1;32mc:\\Users\\sunggyulee\\anaconda3\\envs\\mcl1\\lib\\site-packages\\ipykernel\\iostream.py\u001b[0m in \u001b[0;36m_schedule_flush\u001b[1;34m(self)\u001b[0m\n\u001b[0;32m    467\u001b[0m             \u001b[0mself\u001b[0m\u001b[1;33m.\u001b[0m\u001b[0m_io_loop\u001b[0m\u001b[1;33m.\u001b[0m\u001b[0mcall_later\u001b[0m\u001b[1;33m(\u001b[0m\u001b[0mself\u001b[0m\u001b[1;33m.\u001b[0m\u001b[0mflush_interval\u001b[0m\u001b[1;33m,\u001b[0m \u001b[0mself\u001b[0m\u001b[1;33m.\u001b[0m\u001b[0m_flush\u001b[0m\u001b[1;33m)\u001b[0m\u001b[1;33m\u001b[0m\u001b[1;33m\u001b[0m\u001b[0m\n\u001b[0;32m    468\u001b[0m \u001b[1;33m\u001b[0m\u001b[0m\n\u001b[1;32m--> 469\u001b[1;33m         \u001b[0mself\u001b[0m\u001b[1;33m.\u001b[0m\u001b[0mpub_thread\u001b[0m\u001b[1;33m.\u001b[0m\u001b[0mschedule\u001b[0m\u001b[1;33m(\u001b[0m\u001b[0m_schedule_in_thread\u001b[0m\u001b[1;33m)\u001b[0m\u001b[1;33m\u001b[0m\u001b[1;33m\u001b[0m\u001b[0m\n\u001b[0m\u001b[0;32m    470\u001b[0m \u001b[1;33m\u001b[0m\u001b[0m\n\u001b[0;32m    471\u001b[0m     \u001b[1;32mdef\u001b[0m \u001b[0mflush\u001b[0m\u001b[1;33m(\u001b[0m\u001b[0mself\u001b[0m\u001b[1;33m)\u001b[0m\u001b[1;33m:\u001b[0m\u001b[1;33m\u001b[0m\u001b[1;33m\u001b[0m\u001b[0m\n",
      "\u001b[1;32mc:\\Users\\sunggyulee\\anaconda3\\envs\\mcl1\\lib\\site-packages\\ipykernel\\iostream.py\u001b[0m in \u001b[0;36mschedule\u001b[1;34m(self, f)\u001b[0m\n\u001b[0;32m    208\u001b[0m             \u001b[0mself\u001b[0m\u001b[1;33m.\u001b[0m\u001b[0m_events\u001b[0m\u001b[1;33m.\u001b[0m\u001b[0mappend\u001b[0m\u001b[1;33m(\u001b[0m\u001b[0mf\u001b[0m\u001b[1;33m)\u001b[0m\u001b[1;33m\u001b[0m\u001b[1;33m\u001b[0m\u001b[0m\n\u001b[0;32m    209\u001b[0m             \u001b[1;31m# wake event thread (message content is ignored)\u001b[0m\u001b[1;33m\u001b[0m\u001b[1;33m\u001b[0m\u001b[1;33m\u001b[0m\u001b[0m\n\u001b[1;32m--> 210\u001b[1;33m             \u001b[0mself\u001b[0m\u001b[1;33m.\u001b[0m\u001b[0m_event_pipe\u001b[0m\u001b[1;33m.\u001b[0m\u001b[0msend\u001b[0m\u001b[1;33m(\u001b[0m\u001b[1;34mb\"\"\u001b[0m\u001b[1;33m)\u001b[0m\u001b[1;33m\u001b[0m\u001b[1;33m\u001b[0m\u001b[0m\n\u001b[0m\u001b[0;32m    211\u001b[0m         \u001b[1;32melse\u001b[0m\u001b[1;33m:\u001b[0m\u001b[1;33m\u001b[0m\u001b[1;33m\u001b[0m\u001b[0m\n\u001b[0;32m    212\u001b[0m             \u001b[0mf\u001b[0m\u001b[1;33m(\u001b[0m\u001b[1;33m)\u001b[0m\u001b[1;33m\u001b[0m\u001b[1;33m\u001b[0m\u001b[0m\n",
      "\u001b[1;32mc:\\Users\\sunggyulee\\anaconda3\\envs\\mcl1\\lib\\site-packages\\zmq\\sugar\\socket.py\u001b[0m in \u001b[0;36msend\u001b[1;34m(self, data, flags, copy, track, routing_id, group)\u001b[0m\n\u001b[0;32m    616\u001b[0m                 )\n\u001b[0;32m    617\u001b[0m             \u001b[0mdata\u001b[0m\u001b[1;33m.\u001b[0m\u001b[0mgroup\u001b[0m \u001b[1;33m=\u001b[0m \u001b[0mgroup\u001b[0m\u001b[1;33m\u001b[0m\u001b[1;33m\u001b[0m\u001b[0m\n\u001b[1;32m--> 618\u001b[1;33m         \u001b[1;32mreturn\u001b[0m \u001b[0msuper\u001b[0m\u001b[1;33m(\u001b[0m\u001b[1;33m)\u001b[0m\u001b[1;33m.\u001b[0m\u001b[0msend\u001b[0m\u001b[1;33m(\u001b[0m\u001b[0mdata\u001b[0m\u001b[1;33m,\u001b[0m \u001b[0mflags\u001b[0m\u001b[1;33m=\u001b[0m\u001b[0mflags\u001b[0m\u001b[1;33m,\u001b[0m \u001b[0mcopy\u001b[0m\u001b[1;33m=\u001b[0m\u001b[0mcopy\u001b[0m\u001b[1;33m,\u001b[0m \u001b[0mtrack\u001b[0m\u001b[1;33m=\u001b[0m\u001b[0mtrack\u001b[0m\u001b[1;33m)\u001b[0m\u001b[1;33m\u001b[0m\u001b[1;33m\u001b[0m\u001b[0m\n\u001b[0m\u001b[0;32m    619\u001b[0m \u001b[1;33m\u001b[0m\u001b[0m\n\u001b[0;32m    620\u001b[0m     def send_multipart(\n",
      "\u001b[1;32mzmq/backend/cython/socket.pyx\u001b[0m in \u001b[0;36mzmq.backend.cython.socket.Socket.send\u001b[1;34m()\u001b[0m\n",
      "\u001b[1;32mzmq/backend/cython/socket.pyx\u001b[0m in \u001b[0;36mzmq.backend.cython.socket.Socket.send\u001b[1;34m()\u001b[0m\n",
      "\u001b[1;32mzmq/backend/cython/socket.pyx\u001b[0m in \u001b[0;36mzmq.backend.cython.socket._send_copy\u001b[1;34m()\u001b[0m\n",
      "\u001b[1;32mc:\\Users\\sunggyulee\\anaconda3\\envs\\mcl1\\lib\\site-packages\\zmq\\backend\\cython\\checkrc.pxd\u001b[0m in \u001b[0;36mzmq.backend.cython.checkrc._check_rc\u001b[1;34m()\u001b[0m\n",
      "\u001b[1;31mKeyboardInterrupt\u001b[0m: "
     ]
=======
>>>>>>> 6849384ae92a84150a86780bf1874c39a99ec772
    }
   ],
   "source": [
    "pred_proba=lr_clf.predict_proba(X_test)\n",
    "pred=lr_clf.predict(X_test)\n",
    "print('pred_proba()결과 Shape:{0}'.format(pred_proba.shape))\n",
    "print('pred_proba array에서 앞 3개만 샘플로 추출 \\n:',pred[:3])\n",
    "\n",
    "pred_proba_result=np.concatenate([pred_proba,pred.reshape(-1,1)],axis=1)\n",
    "\n",
    "print('두개의 class중에서 더 큰 확률을 클래스 값으로 예측 \\n',pred_proba_result[:3])"
   ]
  },
  {
   "cell_type": "code",
   "execution_count": 16,
   "metadata": {},
   "outputs": [
    {
     "name": "stdout",
     "output_type": "stream",
     "text": [
      "[[0. 0. 1.]\n",
      " [1. 0. 0.]\n",
      " [0. 0. 1.]]\n"
     ]
    }
   ],
   "source": [
    "from sklearn.preprocessing import Binarizer\n",
    "X=[[1,-1,2],\n",
    "   [2,0,0],\n",
    "   [0,1.1,1.2]]\n",
    "\n",
    "binarizer=Binarizer(threshold=1.1)\n",
    "print(binarizer.fit_transform(X))"
   ]
  },
  {
   "cell_type": "code",
   "execution_count": 17,
   "metadata": {},
   "outputs": [
    {
     "name": "stdout",
     "output_type": "stream",
     "text": [
      "오차 행렬\n",
      "[[108  10]\n",
      " [ 14  47]]\n",
      "정확도:0.8659,정밀도:0.8246,재현율:0.7705\n"
     ]
    }
   ],
   "source": [
    "from sklearn.preprocessing import Binarizer\n",
    "\n",
    "custom_threshold=0.5\n",
    "\n",
    "pred_proba_1=pred_proba[:,1].reshape(-1,1)\n",
    "\n",
    "binarizer=Binarizer(threshold=custom_threshold).fit(pred_proba_1)\n",
    "custom_predict=binarizer.transform(pred_proba_1)\n",
    "\n",
    "get_clf_eval(y_test,custom_predict)"
   ]
  },
  {
   "cell_type": "code",
   "execution_count": 20,
   "metadata": {},
   "outputs": [
    {
     "name": "stdout",
     "output_type": "stream",
     "text": [
      "임계값: 0.4\n",
      "오차 행렬\n",
      "[[97 21]\n",
      " [11 50]]\n",
      "정확도:0.8212,정밀도:0.7042,재현율:0.8197\n",
      "임계값: 0.45\n",
      "오차 행렬\n",
      "[[105  13]\n",
      " [ 13  48]]\n",
      "정확도:0.8547,정밀도:0.7869,재현율:0.7869\n",
      "임계값: 0.5\n",
      "오차 행렬\n",
      "[[108  10]\n",
      " [ 14  47]]\n",
      "정확도:0.8659,정밀도:0.8246,재현율:0.7705\n",
      "임계값: 0.55\n",
      "오차 행렬\n",
      "[[111   7]\n",
      " [ 16  45]]\n",
      "정확도:0.8715,정밀도:0.8654,재현율:0.7377\n",
      "임계값: 0.6\n",
      "오차 행렬\n",
      "[[113   5]\n",
      " [ 17  44]]\n",
      "정확도:0.8771,정밀도:0.8980,재현율:0.7213\n"
     ]
    }
   ],
   "source": [
    "thresholds=[0.4,0.45,0.5,0.55,0.6]\n",
    "\n",
    "def get_eval_by_threshold(y_test,pred_proba_c1,tresholds):\n",
    "    for custom_threshold in thresholds:\n",
    "        binarizer=Binarizer(threshold=custom_threshold).fit(pred_proba_c1)\n",
    "        custom_predict=binarizer.transform(pred_proba_c1)\n",
    "        print('임계값:',custom_threshold)\n",
    "        get_clf_eval(y_test,custom_predict)\n",
    "\n",
    "get_eval_by_threshold(y_test,pred_proba[:,1].reshape(-1,1),thresholds)\n"
   ]
  },
  {
   "cell_type": "code",
   "execution_count": 29,
   "metadata": {},
   "outputs": [
    {
     "name": "stdout",
     "output_type": "stream",
     "text": [
      "반환된 분류 결정 임게값 배열의 shape: (147,)\n",
      "샘플 추출을 위한 임계값 배열의 index 10개 [  0  15  30  45  60  75  90 105 120 135]\n",
      "샘플용 10개의 임계값 [0.12 0.13 0.15 0.17 0.26 0.38 0.49 0.63 0.76 0.9 ]\n",
      "샘플 임계값별 정밀도:  [0.379 0.424 0.455 0.519 0.618 0.676 0.797 0.93  0.964 1.   ]\n",
      "샘플 임계값별 재현율:  [1.    0.967 0.902 0.902 0.902 0.82  0.77  0.656 0.443 0.213]\n"
     ]
    }
   ],
   "source": [
    "from sklearn.metrics import precision_recall_curve\n",
    "\n",
    "pred_proba_class1=lr_clf.predict_proba(X_test)[:,1]\n",
    "\n",
    "\n",
    "precisions,recalls,thresholds=precision_recall_curve(y_test,pred_proba_class1)\n",
    "\n",
    "print('반환된 분류 결정 임게값 배열의 shape:',thresholds.shape)\n",
    "\n",
    "thr_index=np.arange(0,thresholds.shape[0],15)\n",
    "\n",
    "print('샘플 추출을 위한 임계값 배열의 index 10개',thr_index)\n",
    "print('샘플용 10개의 임계값',np.round(thresholds[thr_index],2))\n",
    "\n",
    "print('샘플 임계값별 정밀도: ',np.round(precisions[thr_index],3))\n",
    "print('샘플 임계값별 재현율: ',np.round(recalls[thr_index],3))\n",
    "\n"
   ]
  },
  {
   "cell_type": "code",
   "execution_count": 36,
   "metadata": {},
   "outputs": [
    {
     "data": {
      "image/png": "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",
      "text/plain": [
       "<Figure size 800x600 with 1 Axes>"
      ]
     },
     "metadata": {},
     "output_type": "display_data"
    }
   ],
   "source": [
    "# 시각화\n",
    "\n",
    "import matplotlib.pyplot as plt\n",
    "import matplotlib.ticker as ticker\n",
    "%matplotlib inline\n",
    "\n",
    "def precision_recall_curve_plot(y_test,pred_proba_c1):\n",
    "    precisions,recalls,thresholds=precision_recall_curve(y_test,pred_proba_c1)\n",
    "\n",
    "    plt.figure(figsize=(8,6))\n",
    "    threshold_boundary=thresholds.shape[0]\n",
    "    plt.plot(thresholds,precisions[0:threshold_boundary],linestyle='-',label='precision')\n",
    "    plt.plot(thresholds,recalls[0:threshold_boundary],linestyle='-',label='recall')\n",
    "\n",
    "    start,end=plt.xlim()\n",
    "    plt.xticks(np.round(np.arange(start,end,0.1),2))\n",
    "\n",
    "    plt.xlabel('Threshold value');plt.ylabel('Precision and Recall value')\n",
    "    plt.legend();plt.grid()\n",
    "    # ;는 두줄을 한줄에 표기하기 위한 방법임\n",
    "    plt.show()\n",
    "\n",
    "precision_recall_curve_plot(y_test,lr_clf.predict_proba(X_test)[:,1])"
   ]
  },
  {
   "cell_type": "code",
   "execution_count": 37,
   "metadata": {},
   "outputs": [
    {
     "name": "stdout",
     "output_type": "stream",
     "text": [
      "F1스코어:0.7966\n"
     ]
    }
   ],
   "source": [
    "# F1스코어\n",
    "\n",
    "from sklearn.metrics import f1_score\n",
    "f1=f1_score(y_test,pred)\n",
    "print('F1스코어:{0:.4f}'.format(f1))"
   ]
  },
  {
   "cell_type": "code",
   "execution_count": 39,
   "metadata": {},
   "outputs": [
    {
     "name": "stdout",
     "output_type": "stream",
     "text": [
      "임계값: 0.4\n",
      "오차 행렬\n",
      "[[97 21]\n",
      " [11 50]]\n",
      "정확도:0.8212,정밀도:0.7042,재현율:0.8197F1:0.7576\n",
      "임계값: 0.45\n",
      "오차 행렬\n",
      "[[105  13]\n",
      " [ 13  48]]\n",
      "정확도:0.8547,정밀도:0.7869,재현율:0.7869F1:0.7869\n",
      "임계값: 0.5\n",
      "오차 행렬\n",
      "[[108  10]\n",
      " [ 14  47]]\n",
      "정확도:0.8659,정밀도:0.8246,재현율:0.7705F1:0.7966\n",
      "임계값: 0.55\n",
      "오차 행렬\n",
      "[[111   7]\n",
      " [ 16  45]]\n",
      "정확도:0.8715,정밀도:0.8654,재현율:0.7377F1:0.7965\n",
      "임계값: 0.6\n",
      "오차 행렬\n",
      "[[113   5]\n",
      " [ 17  44]]\n",
      "정확도:0.8771,정밀도:0.8980,재현율:0.7213F1:0.8000\n"
     ]
    }
   ],
   "source": [
    "def get_clf_eval(y_test,pred):\n",
    "    confusion=confusion_matrix(y_test,pred)\n",
    "    accuracy=accuracy_score(y_test,pred)\n",
    "    precision=precision_score(y_test,pred)\n",
    "    recall=recall_score(y_test,pred)\n",
    "    f1=f1_score(y_test,pred)\n",
    "    print('오차 행렬')\n",
    "    print(confusion)\n",
    "    print('정확도:{0:.4f},정밀도:{1:.4f},재현율:{2:.4f}F1:{3:.4f}'.format(accuracy,precision,recall,f1))\n",
    "\n",
    "\n",
    "thresholds=[0.4,0.45,0.5,0.55,0.6]\n",
    "pred_proba=lr_clf.predict_proba(X_test)\n",
    "\n",
    "get_eval_by_threshold(y_test,pred_proba[:,1].reshape(-1,1),thresholds)"
   ]
  },
  {
   "cell_type": "code",
   "execution_count": 40,
   "metadata": {},
   "outputs": [
    {
     "name": "stdout",
     "output_type": "stream",
     "text": [
      "샘플 추출을 위한 임계값 배열의 index: [ 1  6 11 16 21 26 31 36 41 46]\n",
      "샘플 index로 추출한 임계값 [0.94 0.73 0.62 0.52 0.44 0.28 0.15 0.14 0.13 0.12]\n",
      "샘플 임계값별 FPR [0.    0.008 0.025 0.076 0.127 0.254 0.576 0.61  0.746 0.847]\n",
      "샘플 임계값별 TPR [0.016 0.492 0.705 0.738 0.803 0.885 0.902 0.951 0.967 1.   ]\n"
     ]
    }
   ],
   "source": [
    "from sklearn.metrics import roc_curve\n",
    "\n",
    "# 클래스 1일 확률을 넣음\n",
    "pred_proba_class1=lr_clf.predict_proba(X_test)[:,1]\n",
    "\n",
    "fprs,tprs,thresholds=roc_curve(y_test,pred_proba_class1)\n",
    "\n",
    "thr_index=np.arange(1,thresholds.shape[0],5)\n",
    "\n",
    "print('샘플 추출을 위한 임계값 배열의 index:',thr_index)\n",
    "print('샘플 index로 추출한 임계값',np.round(thresholds[thr_index],2))\n",
    "\n",
    "print('샘플 임계값별 FPR',np.round(fprs[thr_index],3))\n",
    "print('샘플 임계값별 TPR',np.round(tprs[thr_index],3))\n",
    "\n",
    "\n"
   ]
  },
  {
   "cell_type": "code",
   "execution_count": 43,
   "metadata": {},
   "outputs": [
    {
     "data": {
      "image/png": "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",
      "text/plain": [
       "<Figure size 640x480 with 1 Axes>"
      ]
     },
     "metadata": {},
     "output_type": "display_data"
    }
   ],
   "source": [
    "def roc_curve_plot(y_test,pred_proba_c1):\n",
    "    fprs,tprs,thresholds=roc_curve(y_test,pred_proba_c1)\n",
    "    plt.plot(fprs,tprs,label='ROC')\n",
    "    # 가운데 대각선 직선을 그림(K-는 검정색 실선)\n",
    "    plt.plot([0,1],[0,1],'k-',label='Random')\n",
    "\n",
    "    start,end=plt.xlim()\n",
    "    plt.xlim(0,1);plt.ylim(0,1)\n",
    "    plt.xlabel('FPR(1-Specificity)');plt.ylabel('TPR(Recall)')\n",
    "    plt.legend()\n",
    "\n",
    "roc_curve_plot(y_test,pred_proba[:,1])"
   ]
  },
  {
   "cell_type": "code",
   "execution_count": 44,
   "metadata": {},
   "outputs": [
    {
     "name": "stdout",
     "output_type": "stream",
     "text": [
      "ROC AUC 값:0.8987\n"
     ]
    }
   ],
   "source": [
    "from sklearn.metrics import roc_auc_score\n",
    "\n",
    "pred_proba=lr_clf.predict_proba(X_test)[:,1]\n",
    "roc_score=roc_auc_score(y_test,pred_proba)\n",
    "print('ROC AUC 값:{0:.4f}'.format(roc_score))"
   ]
  },
  {
   "cell_type": "code",
   "execution_count": 53,
   "metadata": {},
   "outputs": [],
   "source": [
    "def get_clf_eval(y_test,pred,pred_proba=None):\n",
    "    confusion=confusion_matrix(y_test,pred)\n",
    "    accuracy=accuracy_score(y_test,pred)\n",
    "    precision=precision_score(y_test,pred)\n",
    "    recall=recall_score(y_test,pred)\n",
    "    f1=f1_score(y_test,pred)\n",
    "    roc_auc=roc_auc_score(y_test,pred_proba)\n",
    "    print('오차 행렬')\n",
    "    print(confusion)\n",
    "    print('정확도:{0:.4f},정밀도:{1:.4f},재현율:{2:.4f},F1:{3:.4f},AUC:{4:.4f}'.format(accuracy,precision,recall,f1,roc_auc))"
   ]
  },
  {
   "cell_type": "markdown",
   "metadata": {},
   "source": [
    "피마 인디언 당뇨병 예측"
   ]
  },
  {
   "cell_type": "code",
   "execution_count": 54,
   "metadata": {},
   "outputs": [
    {
     "name": "stdout",
     "output_type": "stream",
     "text": [
      "0    500\n",
      "1    268\n",
      "Name: Outcome, dtype: int64\n"
     ]
    },
    {
     "data": {
      "text/html": [
       "<div>\n",
       "<style scoped>\n",
       "    .dataframe tbody tr th:only-of-type {\n",
       "        vertical-align: middle;\n",
       "    }\n",
       "\n",
       "    .dataframe tbody tr th {\n",
       "        vertical-align: top;\n",
       "    }\n",
       "\n",
       "    .dataframe thead th {\n",
       "        text-align: right;\n",
       "    }\n",
       "</style>\n",
       "<table border=\"1\" class=\"dataframe\">\n",
       "  <thead>\n",
       "    <tr style=\"text-align: right;\">\n",
       "      <th></th>\n",
       "      <th>Pregnancies</th>\n",
       "      <th>Glucose</th>\n",
       "      <th>BloodPressure</th>\n",
       "      <th>SkinThickness</th>\n",
       "      <th>Insulin</th>\n",
       "      <th>BMI</th>\n",
       "      <th>DiabetesPedigreeFunction</th>\n",
       "      <th>Age</th>\n",
       "      <th>Outcome</th>\n",
       "    </tr>\n",
       "  </thead>\n",
       "  <tbody>\n",
       "    <tr>\n",
       "      <th>0</th>\n",
       "      <td>6</td>\n",
       "      <td>148</td>\n",
       "      <td>72</td>\n",
       "      <td>35</td>\n",
       "      <td>0</td>\n",
       "      <td>33.6</td>\n",
       "      <td>0.627</td>\n",
       "      <td>50</td>\n",
       "      <td>1</td>\n",
       "    </tr>\n",
       "    <tr>\n",
       "      <th>1</th>\n",
       "      <td>1</td>\n",
       "      <td>85</td>\n",
       "      <td>66</td>\n",
       "      <td>29</td>\n",
       "      <td>0</td>\n",
       "      <td>26.6</td>\n",
       "      <td>0.351</td>\n",
       "      <td>31</td>\n",
       "      <td>0</td>\n",
       "    </tr>\n",
       "    <tr>\n",
       "      <th>2</th>\n",
       "      <td>8</td>\n",
       "      <td>183</td>\n",
       "      <td>64</td>\n",
       "      <td>0</td>\n",
       "      <td>0</td>\n",
       "      <td>23.3</td>\n",
       "      <td>0.672</td>\n",
       "      <td>32</td>\n",
       "      <td>1</td>\n",
       "    </tr>\n",
       "  </tbody>\n",
       "</table>\n",
       "</div>"
      ],
      "text/plain": [
       "   Pregnancies  Glucose  BloodPressure  SkinThickness  Insulin   BMI  \\\n",
       "0            6      148             72             35        0  33.6   \n",
       "1            1       85             66             29        0  26.6   \n",
       "2            8      183             64              0        0  23.3   \n",
       "\n",
       "   DiabetesPedigreeFunction  Age  Outcome  \n",
       "0                     0.627   50        1  \n",
       "1                     0.351   31        0  \n",
       "2                     0.672   32        1  "
      ]
     },
     "execution_count": 54,
     "metadata": {},
     "output_type": "execute_result"
    }
   ],
   "source": [
    "import numpy as np\n",
    "import pandas as pd\n",
    "import matplotlib.pyplot as plt\n",
    "%matplotlib inline\n",
    "\n",
    "from sklearn.model_selection import train_test_split\n",
    "from sklearn.metrics import accuracy_score,precision_score,recall_score,roc_auc_score,f1_score,confusion_matrix,precision_recall_curve,roc_curve\n",
    "from sklearn.preprocessing import StandardScaler\n",
    "from sklearn.linear_model import LogisticRegression\n",
    "\n",
    "diabetes_data=pd.read_csv(r\"D:\\OneDrive\\OneDrive\\취업후\\파이썬\\파이썬 머신러닝 완벽 가이드\\pymlguide\\data\\Pima Indian Diabetes\\diabetes.csv\")\n",
    "print(diabetes_data['Outcome'].value_counts())\n",
    "diabetes_data.head(3)"
   ]
  },
  {
   "cell_type": "code",
   "execution_count": 55,
   "metadata": {},
   "outputs": [
    {
     "name": "stdout",
     "output_type": "stream",
     "text": [
      "<class 'pandas.core.frame.DataFrame'>\n",
      "RangeIndex: 768 entries, 0 to 767\n",
      "Data columns (total 9 columns):\n",
      " #   Column                    Non-Null Count  Dtype  \n",
      "---  ------                    --------------  -----  \n",
      " 0   Pregnancies               768 non-null    int64  \n",
      " 1   Glucose                   768 non-null    int64  \n",
      " 2   BloodPressure             768 non-null    int64  \n",
      " 3   SkinThickness             768 non-null    int64  \n",
      " 4   Insulin                   768 non-null    int64  \n",
      " 5   BMI                       768 non-null    float64\n",
      " 6   DiabetesPedigreeFunction  768 non-null    float64\n",
      " 7   Age                       768 non-null    int64  \n",
      " 8   Outcome                   768 non-null    int64  \n",
      "dtypes: float64(2), int64(7)\n",
      "memory usage: 54.1 KB\n"
     ]
    }
   ],
   "source": [
    "diabetes_data.info()"
   ]
  },
  {
   "cell_type": "code",
   "execution_count": 56,
   "metadata": {},
   "outputs": [
    {
     "name": "stdout",
     "output_type": "stream",
     "text": [
      "오차 행렬\n",
      "[[87 13]\n",
      " [22 32]]\n",
      "정확도:0.7727,정밀도:0.7111,재현율:0.5926,F1:0.6465,AUC:0.8083\n"
     ]
    }
   ],
   "source": [
    "# 데이터 셋을 타겟과 피쳐로 구분함\n",
    "X=diabetes_data.iloc[:,:-1]\n",
    "y=diabetes_data.iloc[:,-1]\n",
    "\n",
    "# 레이블 비율을 구분해서 학습데이터셋과 테스트 데이터 셋으로 나눔\n",
    "X_train,X_test,y_train,y_test=train_test_split(X,y,test_size=0.2,random_state=156,stratify=y)\n",
    "\n",
    "#solver는 옵션중에 하나인데 뭔지 잘 모르겠음\n",
    "lr_clf=LogisticRegression(solver='liblinear')\n",
    "lr_clf.fit(X_train,y_train)\n",
    "pred=lr_clf.predict(X_test)\n",
    "pred_proba=lr_clf.predict_proba(X_test)[:,1]\n",
    "\n",
    "get_clf_eval(y_test,pred,pred_proba)"
   ]
  },
  {
   "cell_type": "code",
   "execution_count": 57,
   "metadata": {},
   "outputs": [
    {
     "data": {
      "image/png": "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",
      "text/plain": [
       "<Figure size 800x600 with 1 Axes>"
      ]
     },
     "metadata": {},
     "output_type": "display_data"
    }
   ],
   "source": [
    "# treshold값에 따른 재현율과 정밀도 그래프\n",
    "pred_proba_c1=lr_clf.predict_proba(X_test)[:,1]\n",
    "precision_recall_curve_plot(y_test,pred_proba_c1)"
   ]
  },
  {
   "cell_type": "code",
   "execution_count": 58,
   "metadata": {},
   "outputs": [
    {
     "data": {
      "text/html": [
       "<div>\n",
       "<style scoped>\n",
       "    .dataframe tbody tr th:only-of-type {\n",
       "        vertical-align: middle;\n",
       "    }\n",
       "\n",
       "    .dataframe tbody tr th {\n",
       "        vertical-align: top;\n",
       "    }\n",
       "\n",
       "    .dataframe thead th {\n",
       "        text-align: right;\n",
       "    }\n",
       "</style>\n",
       "<table border=\"1\" class=\"dataframe\">\n",
       "  <thead>\n",
       "    <tr style=\"text-align: right;\">\n",
       "      <th></th>\n",
       "      <th>Pregnancies</th>\n",
       "      <th>Glucose</th>\n",
       "      <th>BloodPressure</th>\n",
       "      <th>SkinThickness</th>\n",
       "      <th>Insulin</th>\n",
       "      <th>BMI</th>\n",
       "      <th>DiabetesPedigreeFunction</th>\n",
       "      <th>Age</th>\n",
       "      <th>Outcome</th>\n",
       "    </tr>\n",
       "  </thead>\n",
       "  <tbody>\n",
       "    <tr>\n",
       "      <th>count</th>\n",
       "      <td>768.000000</td>\n",
       "      <td>768.000000</td>\n",
       "      <td>768.000000</td>\n",
       "      <td>768.000000</td>\n",
       "      <td>768.000000</td>\n",
       "      <td>768.000000</td>\n",
       "      <td>768.000000</td>\n",
       "      <td>768.000000</td>\n",
       "      <td>768.000000</td>\n",
       "    </tr>\n",
       "    <tr>\n",
       "      <th>mean</th>\n",
       "      <td>3.845052</td>\n",
       "      <td>120.894531</td>\n",
       "      <td>69.105469</td>\n",
       "      <td>20.536458</td>\n",
       "      <td>79.799479</td>\n",
       "      <td>31.992578</td>\n",
       "      <td>0.471876</td>\n",
       "      <td>33.240885</td>\n",
       "      <td>0.348958</td>\n",
       "    </tr>\n",
       "    <tr>\n",
       "      <th>std</th>\n",
       "      <td>3.369578</td>\n",
       "      <td>31.972618</td>\n",
       "      <td>19.355807</td>\n",
       "      <td>15.952218</td>\n",
       "      <td>115.244002</td>\n",
       "      <td>7.884160</td>\n",
       "      <td>0.331329</td>\n",
       "      <td>11.760232</td>\n",
       "      <td>0.476951</td>\n",
       "    </tr>\n",
       "    <tr>\n",
       "      <th>min</th>\n",
       "      <td>0.000000</td>\n",
       "      <td>0.000000</td>\n",
       "      <td>0.000000</td>\n",
       "      <td>0.000000</td>\n",
       "      <td>0.000000</td>\n",
       "      <td>0.000000</td>\n",
       "      <td>0.078000</td>\n",
       "      <td>21.000000</td>\n",
       "      <td>0.000000</td>\n",
       "    </tr>\n",
       "    <tr>\n",
       "      <th>25%</th>\n",
       "      <td>1.000000</td>\n",
       "      <td>99.000000</td>\n",
       "      <td>62.000000</td>\n",
       "      <td>0.000000</td>\n",
       "      <td>0.000000</td>\n",
       "      <td>27.300000</td>\n",
       "      <td>0.243750</td>\n",
       "      <td>24.000000</td>\n",
       "      <td>0.000000</td>\n",
       "    </tr>\n",
       "    <tr>\n",
       "      <th>50%</th>\n",
       "      <td>3.000000</td>\n",
       "      <td>117.000000</td>\n",
       "      <td>72.000000</td>\n",
       "      <td>23.000000</td>\n",
       "      <td>30.500000</td>\n",
       "      <td>32.000000</td>\n",
       "      <td>0.372500</td>\n",
       "      <td>29.000000</td>\n",
       "      <td>0.000000</td>\n",
       "    </tr>\n",
       "    <tr>\n",
       "      <th>75%</th>\n",
       "      <td>6.000000</td>\n",
       "      <td>140.250000</td>\n",
       "      <td>80.000000</td>\n",
       "      <td>32.000000</td>\n",
       "      <td>127.250000</td>\n",
       "      <td>36.600000</td>\n",
       "      <td>0.626250</td>\n",
       "      <td>41.000000</td>\n",
       "      <td>1.000000</td>\n",
       "    </tr>\n",
       "    <tr>\n",
       "      <th>max</th>\n",
       "      <td>17.000000</td>\n",
       "      <td>199.000000</td>\n",
       "      <td>122.000000</td>\n",
       "      <td>99.000000</td>\n",
       "      <td>846.000000</td>\n",
       "      <td>67.100000</td>\n",
       "      <td>2.420000</td>\n",
       "      <td>81.000000</td>\n",
       "      <td>1.000000</td>\n",
       "    </tr>\n",
       "  </tbody>\n",
       "</table>\n",
       "</div>"
      ],
      "text/plain": [
       "       Pregnancies     Glucose  BloodPressure  SkinThickness     Insulin  \\\n",
       "count   768.000000  768.000000     768.000000     768.000000  768.000000   \n",
       "mean      3.845052  120.894531      69.105469      20.536458   79.799479   \n",
       "std       3.369578   31.972618      19.355807      15.952218  115.244002   \n",
       "min       0.000000    0.000000       0.000000       0.000000    0.000000   \n",
       "25%       1.000000   99.000000      62.000000       0.000000    0.000000   \n",
       "50%       3.000000  117.000000      72.000000      23.000000   30.500000   \n",
       "75%       6.000000  140.250000      80.000000      32.000000  127.250000   \n",
       "max      17.000000  199.000000     122.000000      99.000000  846.000000   \n",
       "\n",
       "              BMI  DiabetesPedigreeFunction         Age     Outcome  \n",
       "count  768.000000                768.000000  768.000000  768.000000  \n",
       "mean    31.992578                  0.471876   33.240885    0.348958  \n",
       "std      7.884160                  0.331329   11.760232    0.476951  \n",
       "min      0.000000                  0.078000   21.000000    0.000000  \n",
       "25%     27.300000                  0.243750   24.000000    0.000000  \n",
       "50%     32.000000                  0.372500   29.000000    0.000000  \n",
       "75%     36.600000                  0.626250   41.000000    1.000000  \n",
       "max     67.100000                  2.420000   81.000000    1.000000  "
      ]
     },
     "execution_count": 58,
     "metadata": {},
     "output_type": "execute_result"
    }
   ],
   "source": [
    "diabetes_data.describe()"
   ]
  },
  {
   "cell_type": "code",
   "execution_count": 60,
   "metadata": {},
   "outputs": [
    {
     "data": {
      "image/png": "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",
      "text/plain": [
       "<Figure size 640x480 with 1 Axes>"
      ]
     },
     "metadata": {},
     "output_type": "display_data"
    }
   ],
   "source": [
    "plt.hist(diabetes_data['Glucose'],bins=100)\n",
    "plt.show()"
   ]
  },
  {
   "cell_type": "code",
   "execution_count": 65,
   "metadata": {},
   "outputs": [
    {
     "name": "stdout",
     "output_type": "stream",
     "text": [
      "Glucose 0의 건수는 5,퍼센트는0.65%\n",
      "BloodPressure 0의 건수는 35,퍼센트는4.56%\n",
      "SkinThickness 0의 건수는 227,퍼센트는29.56%\n",
      "Insulin 0의 건수는 374,퍼센트는48.70%\n",
      "BMI 0의 건수는 11,퍼센트는1.43%\n"
     ]
    }
   ],
   "source": [
    "zero_features=['Glucose','BloodPressure','SkinThickness',\n",
    "               'Insulin','BMI']\n",
    "\n",
    "total_count=diabetes_data['Glucose'].count()\n",
    "# 피쳐별로 반복하면서 데이터 값이 0인 데이터 건수를 추출하고 퍼센트를 계산함\n",
    "for feature in zero_features:\n",
    "    zero_count=diabetes_data[diabetes_data[feature]==0][feature].count()\n",
    "    print('{0} 0의 건수는 {1},퍼센트는{2:.2f}%'.format(feature,zero_count,100*zero_count/total_count))"
   ]
  },
  {
   "cell_type": "code",
   "execution_count": 67,
   "metadata": {},
   "outputs": [],
   "source": [
    "# zero_features 리스트 내부에 저장된 개별 피쳐들에 대해서 0값을 평균값으로 대체\n",
    "\n",
    "mean_zero_features=diabetes_data[zero_features].mean()\n",
    "diabetes_data[zero_features]=diabetes_data[zero_features].replace(0,mean_zero_features)"
   ]
  },
  {
   "cell_type": "code",
   "execution_count": 72,
   "metadata": {},
   "outputs": [
    {
     "name": "stdout",
     "output_type": "stream",
     "text": [
      "오차 행렬\n",
      "[[90 10]\n",
      " [21 33]]\n",
      "정확도:0.7987,정밀도:0.7674,재현율:0.6111,F1:0.6804,AUC:0.8433\n"
     ]
    }
   ],
   "source": [
    "X=diabetes_data.iloc[:,:-1]\n",
    "y=diabetes_data.iloc[:,-1]\n",
    "\n",
    "scaler=StandardScaler()\n",
    "X_scaled=scaler.fit_transform(X)\n",
    "\n",
    "X_train,X_test,y_train,y_test=train_test_split(X_scaled,y,test_size=0.2,random_state=156,stratify=y)\n",
    "\n",
    "lr_clf=LogisticRegression()\n",
    "lr_clf.fit(X_train,y_train)\n",
    "pred=lr_clf.predict(X_test)\n",
    "pred_proba=lr_clf.predict_proba(X_test)[:,1]\n",
    "\n",
    "get_clf_eval(y_test,pred,pred_proba)"
   ]
  },
  {
   "cell_type": "code",
   "execution_count": 92,
   "metadata": {},
   "outputs": [
    {
     "data": {
      "text/html": [
       "<div>\n",
       "<style scoped>\n",
       "    .dataframe tbody tr th:only-of-type {\n",
       "        vertical-align: middle;\n",
       "    }\n",
       "\n",
       "    .dataframe tbody tr th {\n",
       "        vertical-align: top;\n",
       "    }\n",
       "\n",
       "    .dataframe thead th {\n",
       "        text-align: right;\n",
       "    }\n",
       "</style>\n",
       "<table border=\"1\" class=\"dataframe\">\n",
       "  <thead>\n",
       "    <tr style=\"text-align: right;\">\n",
       "      <th></th>\n",
       "      <th>0</th>\n",
       "      <th>1</th>\n",
       "    </tr>\n",
       "  </thead>\n",
       "  <tbody>\n",
       "    <tr>\n",
       "      <th>count</th>\n",
       "      <td>154.000000</td>\n",
       "      <td>154.000000</td>\n",
       "    </tr>\n",
       "    <tr>\n",
       "      <th>mean</th>\n",
       "      <td>0.638459</td>\n",
       "      <td>0.361541</td>\n",
       "    </tr>\n",
       "    <tr>\n",
       "      <th>std</th>\n",
       "      <td>0.275330</td>\n",
       "      <td>0.275330</td>\n",
       "    </tr>\n",
       "    <tr>\n",
       "      <th>min</th>\n",
       "      <td>0.023655</td>\n",
       "      <td>0.014795</td>\n",
       "    </tr>\n",
       "    <tr>\n",
       "      <th>25%</th>\n",
       "      <td>0.420008</td>\n",
       "      <td>0.117776</td>\n",
       "    </tr>\n",
       "    <tr>\n",
       "      <th>50%</th>\n",
       "      <td>0.701677</td>\n",
       "      <td>0.298323</td>\n",
       "    </tr>\n",
       "    <tr>\n",
       "      <th>75%</th>\n",
       "      <td>0.882224</td>\n",
       "      <td>0.579992</td>\n",
       "    </tr>\n",
       "    <tr>\n",
       "      <th>max</th>\n",
       "      <td>0.985205</td>\n",
       "      <td>0.976345</td>\n",
       "    </tr>\n",
       "  </tbody>\n",
       "</table>\n",
       "</div>"
      ],
      "text/plain": [
       "                0           1\n",
       "count  154.000000  154.000000\n",
       "mean     0.638459    0.361541\n",
       "std      0.275330    0.275330\n",
       "min      0.023655    0.014795\n",
       "25%      0.420008    0.117776\n",
       "50%      0.701677    0.298323\n",
       "75%      0.882224    0.579992\n",
       "max      0.985205    0.976345"
      ]
     },
     "execution_count": 92,
     "metadata": {},
     "output_type": "execute_result"
    }
   ],
   "source": [
    "thresholds=[0,3,0.33,0.36,0.39,0.42,0.45,0.48,0.50]\n",
    "pred_proba=lr_clf.predict_proba(X_test)\n",
    "\n",
    "a=pd.DataFrame(pred_proba)\n",
    "a.describe()\n",
    "\n",
    "# get_eval_by_threshold(y_test,pred_proba[:,1].reshape(-1,1),thresholds)"
   ]
  },
  {
   "cell_type": "code",
   "execution_count": 93,
   "metadata": {},
   "outputs": [
    {
     "name": "stdout",
     "output_type": "stream",
     "text": [
      "오차 행렬\n",
      "[[88 12]\n",
      " [19 35]]\n",
      "정확도:0.7987,정밀도:0.7447,재현율:0.6481,F1:0.6931,AUC:0.8433\n"
     ]
    }
   ],
   "source": [
    "binarizer=Binarizer(threshold=0.48)\n",
    "pred_th_048=binarizer.fit_transform(pred_proba[:,1].reshape(-1,1))\n",
    "\n",
    "get_clf_eval(y_test,pred_th_048,pred_proba[:,1])"
   ]
  },
  {
   "cell_type": "code",
   "execution_count": null,
   "metadata": {},
   "outputs": [],
   "source": []
  }
 ],
 "metadata": {
  "kernelspec": {
   "display_name": "mcl1",
   "language": "python",
   "name": "python3"
  },
  "language_info": {
   "codemirror_mode": {
    "name": "ipython",
    "version": 3
   },
   "file_extension": ".py",
   "mimetype": "text/x-python",
   "name": "python",
   "nbconvert_exporter": "python",
   "pygments_lexer": "ipython3",
   "version": "3.7.16"
  }
 },
 "nbformat": 4,
 "nbformat_minor": 2
}
