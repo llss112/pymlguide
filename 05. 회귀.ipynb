{
 "cells": [
  {
   "cell_type": "code",
   "execution_count": 1,
   "metadata": {},
   "outputs": [],
   "source": [
    "#05 회귀"
   ]
  },
  {
   "cell_type": "code",
   "execution_count": 2,
   "metadata": {},
   "outputs": [
    {
     "data": {
      "text/plain": [
       "<matplotlib.collections.PathCollection at 0x1d6d82dce88>"
      ]
     },
     "execution_count": 2,
     "metadata": {},
     "output_type": "execute_result"
    },
    {
     "data": {
      "image/png": "[encoded data removed]",
      "text/plain": [
       "<Figure size 640x480 with 1 Axes>"
      ]
     },
     "metadata": {},
     "output_type": "display_data"
    }
   ],
   "source": [
    "import numpy as np\n",
    "import matplotlib.pyplot as plt\n",
    "%matplotlib inline\n",
    "\n",
    "np.random.seed(0)\n",
    "# 0과 1사이에서 100,1 모양의 난수 배열을 만듬\n",
    "X=2*np.random.rand(100,1)\n",
    "# 여기는 가우시안 분포\n",
    "y=6+4*X+np.random.randn(100,1)\n",
    "\n",
    "plt.scatter(X,y)"
   ]
  },
  {
   "cell_type": "code",
   "execution_count": 3,
   "metadata": {},
   "outputs": [],
   "source": [
    "\n",
    "def get_cost(y,y_pred):\n",
    "    N=len(y)\n",
    "    cost=np.sum(np.square(y-y_pred)/N)\n",
    "    return cost"
   ]
  },
  {
   "cell_type": "code",
   "execution_count": 4,
   "metadata": {},
   "outputs": [],
   "source": [
    "def get_weight_updates(w1,w0,X,y,learning_rate=0.01):\n",
    "    N=len(y)\n",
    "    w1_update=np.zeros_like(w1)\n",
    "    w0_update=np.zeros_like(w0)\n",
    "    y_pred=np.dot(X,w1.T)+w0\n",
    "    diff=y-y_pred\n",
    "\n",
    "    w0_factors=np.ones((N,1))\n",
    "\n",
    "    w1_update=(-2/N)*learning_rate*(np.dot(X.T,diff))\n",
    "    w0_update=-(2/N)*learning_rate*(np.dot(w0_factors.T,diff))\n",
    "    return w1_update,w0_update"
   ]
  },
  {
   "cell_type": "code",
   "execution_count": 9,
   "metadata": {},
   "outputs": [],
   "source": [
    "# iters주어진 횟수 만큼 반복적으로 가중치 업데이트\n",
    "def gradient_descent_step(X,y,iters=10000):\n",
    "    # w0와 w1 초기화\n",
    "    w0=np.zeros((1,1))\n",
    "    w1=np.zeros((1,1))\n",
    "\n",
    "\n",
    "    for ind in range(iters):\n",
    "        w1_update,w0_update=get_weight_updates(w1,w0,X,y,learning_rate=0.01)\n",
    "        w1=w1-w1_update\n",
    "        w0=w0-w0_update\n",
    "\n",
    "    return w1,w0"
   ]
  },
  {
   "cell_type": "code",
   "execution_count": 10,
   "metadata": {},
   "outputs": [
    {
     "name": "stdout",
     "output_type": "stream",
     "text": [
      "w1:4.022 w0:6.162\n",
      "Gredient Descent Total Cost:0.9935\n"
     ]
    }
   ],
   "source": [
    "def get_cost(y,y_pred):\n",
    "    N=len(y)\n",
    "    cost=np.sum(np.square(y-y_pred))/N\n",
    "    return cost\n",
    "\n",
    "\n",
    "w1,w0=gradient_descent_step(X,y,iters=1000)\n",
    "print('w1:{0:.3f} w0:{1:.3f}'.format(w1[0,0],w0[0,0]))\n",
    "y_pred=w1[0,0]*X+w0\n",
    "print('Gredient Descent Total Cost:{0:.4f}'.format(get_cost(y,y_pred)))"
   ]
  },
  {
   "cell_type": "code",
   "execution_count": null,
   "metadata": {},
   "outputs": [],
   "source": []
  }
 ],
 "metadata": {
  "kernelspec": {
   "display_name": "mcl1",
   "language": "python",
   "name": "python3"
  },
  "language_info": {
   "codemirror_mode": {
    "name": "ipython",
    "version": 3
   },
   "file_extension": ".py",
   "mimetype": "text/x-python",
   "name": "python",
   "nbconvert_exporter": "python",
   "pygments_lexer": "ipython3",
   "version": "3.7.16"
  }
 },
 "nbformat": 4,
 "nbformat_minor": 2
}
