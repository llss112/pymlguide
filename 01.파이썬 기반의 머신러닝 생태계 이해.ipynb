{
 "cells": [
  {
   "cell_type": "code",
   "execution_count": 1,
   "metadata": {},
   "outputs": [],
   "source": [
    "import numpy as np"
   ]
  },
  {
   "cell_type": "code",
   "execution_count": 3,
   "metadata": {},
   "outputs": [],
   "source": [
    "a=[1,2,3]"
   ]
  },
  {
   "cell_type": "code",
   "execution_count": 5,
   "metadata": {},
   "outputs": [
    {
     "data": {
      "text/plain": [
       "list"
      ]
     },
     "execution_count": 5,
     "metadata": {},
     "output_type": "execute_result"
    }
   ],
   "source": [
    "type(a)"
   ]
  },
  {
   "cell_type": "code",
   "execution_count": 7,
   "metadata": {},
   "outputs": [],
   "source": [
    "array=np.array(a)"
   ]
  },
  {
   "cell_type": "code",
   "execution_count": 13,
   "metadata": {},
   "outputs": [
    {
     "data": {
      "text/plain": [
       "dtype('int32')"
      ]
     },
     "execution_count": 13,
     "metadata": {},
     "output_type": "execute_result"
    }
   ],
   "source": [
    "array.dtype"
   ]
  },
  {
   "cell_type": "markdown",
   "metadata": {},
   "source": [
    "ndarray를 편라하게 생성하기-arange,zeros,ones"
   ]
  },
  {
   "cell_type": "code",
   "execution_count": 20,
   "metadata": {},
   "outputs": [
    {
     "name": "stdout",
     "output_type": "stream",
     "text": [
      "[0 1 2 3 4 5 6 7 8 9]\n",
      "int32 (10,)\n"
     ]
    }
   ],
   "source": [
    "sequence_array=np.arange(10)\n",
    "print(sequence_array)\n",
    "print(sequence_array.dtype,sequence_array.shape)"
   ]
  },
  {
   "cell_type": "code",
   "execution_count": 21,
   "metadata": {},
   "outputs": [
    {
     "name": "stdout",
     "output_type": "stream",
     "text": [
      "[[0 0]\n",
      " [0 0]\n",
      " [0 0]]\n",
      "int32 (3, 2)\n",
      "[[1. 1.]\n",
      " [1. 1.]\n",
      " [1. 1.]]\n",
      "float64 (3, 2)\n"
     ]
    }
   ],
   "source": [
    "zero_array=np.zeros((3,2),dtype=\"int32\")\n",
    "print(zero_array)\n",
    "print(zero_array.dtype,zero_array.shape)\n",
    "\n",
    "one_array=np.ones((3,2))\n",
    "print(one_array)\n",
    "print(one_array.dtype,one_array.shape)"
   ]
  },
  {
   "cell_type": "markdown",
   "metadata": {},
   "source": [
    "ndarray의 차원과 크기를 변경하는 reshape"
   ]
  },
  {
   "cell_type": "code",
   "execution_count": 25,
   "metadata": {},
   "outputs": [
    {
     "name": "stdout",
     "output_type": "stream",
     "text": [
      "array1:\n",
      " [0 1 2 3 4 5 6 7 8 9]\n",
      "array:\n",
      " [[0 1 2 3 4]\n",
      " [5 6 7 8 9]]\n",
      "array:\n",
      " [[0 1]\n",
      " [2 3]\n",
      " [4 5]\n",
      " [6 7]\n",
      " [8 9]]\n"
     ]
    }
   ],
   "source": [
    "array1=np.arange(10)\n",
    "print(\"array1:\\n\",array1)\n",
    "\n",
    "array2=array1.reshape(2,5)\n",
    "print(\"array:\\n\",array2)\n",
    "\n",
    "array3=array1.reshape(5,2)\n",
    "print(\"array:\\n\",array3)"
   ]
  },
  {
   "cell_type": "code",
   "execution_count": 26,
   "metadata": {},
   "outputs": [
    {
     "ename": "NameError",
     "evalue": "name 'arraý' is not defined",
     "output_type": "error",
     "traceback": [
      "\u001b[1;31m---------------------------------------------------------------------------\u001b[0m",
      "\u001b[1;31mNameError\u001b[0m                                 Traceback (most recent call last)",
      "\u001b[1;32m~\\AppData\\Local\\Temp\\ipykernel_12788\\2872694152.py\u001b[0m in \u001b[0;36m<module>\u001b[1;34m\u001b[0m\n\u001b[1;32m----> 1\u001b[1;33m \u001b[0marraý\u001b[0m\u001b[1;33m.\u001b[0m\u001b[0mreshape\u001b[0m\u001b[1;33m(\u001b[0m\u001b[1;36m4\u001b[0m\u001b[1;33m,\u001b[0m\u001b[1;36m3\u001b[0m\u001b[1;33m)\u001b[0m\u001b[1;33m\u001b[0m\u001b[1;33m\u001b[0m\u001b[0m\n\u001b[0m",
      "\u001b[1;31mNameError\u001b[0m: name 'arraý' is not defined"
     ]
    }
   ],
   "source": [
    "arraý.reshape(4,3)"
   ]
  },
  {
   "cell_type": "code",
   "execution_count": 29,
   "metadata": {},
   "outputs": [
    {
     "name": "stdout",
     "output_type": "stream",
     "text": [
      "[0 1 2 3 4 5 6 7 8 9]\n",
      "array2 shape (2, 5)\n",
      "array3 shape (5, 2)\n"
     ]
    }
   ],
   "source": [
    "array=np.arange(10)\n",
    "print(array1)\n",
    "array2=array1.reshape(-1,5)\n",
    "print(\"array2 shape\",array2.shape)\n",
    "array3=array.reshape(5,-1)\n",
    "print(\"array3 shape\",array3.shape)"
   ]
  },
  {
   "cell_type": "code",
   "execution_count": 34,
   "metadata": {},
   "outputs": [
    {
     "name": "stdout",
     "output_type": "stream",
     "text": [
      "array3d:\n",
      " [[[0, 1], [2, 3]], [[4, 5], [6, 7]]]\n",
      "array5:\n",
      " [[0], [1], [2], [3], [4], [5], [6], [7]]\n",
      "array5 shape: (8, 1)\n",
      "array6:\n",
      " [[0], [1], [2], [3], [4], [5], [6], [7]]\n",
      "array6 shape: (8, 1)\n"
     ]
    }
   ],
   "source": [
    "array1=np.arange(8)\n",
    "array3d=array1.reshape((2,2,2))\n",
    "print(\"array3d:\\n\",array3d.tolist())\n",
    "\n",
    "array5=array3d.reshape(-1,1)\n",
    "print(\"array5:\\n\",array5.tolist())\n",
    "print(\"array5 shape:\",array5.shape)\n",
    "\n",
    "array6=array1.reshape(-1,1)\n",
    "print(\"array6:\\n\",array6.tolist())\n",
    "print(\"array6 shape:\",array6.shape)"
   ]
  },
  {
   "cell_type": "markdown",
   "metadata": {},
   "source": [
    "넘파이의 ndarray의 데이터 세트 선택하기-인덱싱"
   ]
  },
  {
   "cell_type": "markdown",
   "metadata": {},
   "source": [
    "단일값 추출"
   ]
  },
  {
   "cell_type": "code",
   "execution_count": 40,
   "metadata": {},
   "outputs": [
    {
     "name": "stdout",
     "output_type": "stream",
     "text": [
      "array1: [1 2 3 4 5 6 7 8 9]\n",
      "value: 3\n",
      "<class 'numpy.int32'>\n"
     ]
    }
   ],
   "source": [
    "array1=np.arange(start=1,stop=10)\n",
    "print(\"array1:\",array1)\n",
    "\n",
    "value=array1[2]\n",
    "print(\"value:\",value)\n",
    "print(type(value))"
   ]
  },
  {
   "cell_type": "code",
   "execution_count": 41,
   "metadata": {},
   "outputs": [
    {
     "name": "stdout",
     "output_type": "stream",
     "text": [
      "맨 뒤의 값: 9 맨 뒤에서 두번째 값: 8\n"
     ]
    }
   ],
   "source": [
    "print(\"맨 뒤의 값:\",array1[-1],\"맨 뒤에서 두번째 값:\",array1[-2])"
   ]
  },
  {
   "cell_type": "code",
   "execution_count": 44,
   "metadata": {},
   "outputs": [
    {
     "name": "stdout",
     "output_type": "stream",
     "text": [
      "array1: [9 2 3 4 5 6 7 8 0]\n"
     ]
    }
   ],
   "source": [
    "array1[0]=9\n",
    "array1[8]=0\n",
    "print(\"array1:\",array1)"
   ]
  },
  {
   "cell_type": "code",
   "execution_count": 46,
   "metadata": {},
   "outputs": [
    {
     "name": "stdout",
     "output_type": "stream",
     "text": [
      "[[1 2 3]\n",
      " [4 5 6]\n",
      " [7 8 9]]\n",
      "(row=0,col=0 index가리키는 값: 1\n",
      "(row=0,col=1 index가리키는 값: 2\n",
      "(row=1,col=0 index가리키는 값: 4\n",
      "(row=2,col=2 index가리키는 값: 9\n"
     ]
    }
   ],
   "source": [
    "array1d=np.arange(1,10)\n",
    "array2d=array1d.reshape(3,3)\n",
    "print(array2d)\n",
    "\n",
    "print(\"(row=0,col=0 index가리키는 값:\",array2d[0,0])\n",
    "print(\"(row=0,col=1 index가리키는 값:\",array2d[0,1])\n",
    "print(\"(row=1,col=0 index가리키는 값:\",array2d[1,0])\n",
    "print(\"(row=2,col=2 index가리키는 값:\",array2d[2,2])"
   ]
  },
  {
   "cell_type": "code",
   "execution_count": 49,
   "metadata": {},
   "outputs": [
    {
     "name": "stdout",
     "output_type": "stream",
     "text": [
      "[1 2 3]\n",
      "<class 'numpy.ndarray'>\n"
     ]
    }
   ],
   "source": [
    "array1=np.arange(start=1,stop=10)\n",
    "array3=array1[0:3]\n",
    "print(array3)\n",
    "print(type(array3))"
   ]
  },
  {
   "cell_type": "markdown",
   "metadata": {},
   "source": [
    "슬라이싱"
   ]
  },
  {
   "cell_type": "code",
   "execution_count": 53,
   "metadata": {},
   "outputs": [
    {
     "name": "stdout",
     "output_type": "stream",
     "text": [
      "[1 2 3]\n",
      "[4 5 6 7 8 9]\n",
      "[1 2 3 4 5 6 7 8 9]\n"
     ]
    }
   ],
   "source": [
    "array1=np.arange(1,10)\n",
    "array4=array1[:3]\n",
    "\n",
    "array1=np.arange(1,10)\n",
    "array4=array1[:3]\n",
    "print(array4)\n",
    "\n",
    "array5=array1[3:]\n",
    "print(array5)\n",
    "\n",
    "array6=array1[:]\n",
    "print(array6)"
   ]
  },
  {
   "cell_type": "code",
   "execution_count": 63,
   "metadata": {},
   "outputs": [
    {
     "name": "stdout",
     "output_type": "stream",
     "text": [
      "array2d:\n",
      " [[1 2 3]\n",
      " [4 5 6]\n",
      " [7 8 9]]\n",
      "array2d[0:2,0:2]\n",
      " [[1 2]\n",
      " [4 5]]\n",
      "array2d[1:3,0:3]\n",
      " [[4 5 6]\n",
      " [7 8 9]]\n",
      "array2d[1:3,:]\n",
      " [[4 5 6]\n",
      " [7 8 9]]\n",
      "array2d[:,:]\n",
      " [[1 2 3]\n",
      " [4 5 6]\n",
      " [7 8 9]]\n",
      "array2d[:2,1:]\n",
      " [[2 3]\n",
      " [5 6]]\n",
      "array2d[:2,0]\n",
      " [1 4]\n"
     ]
    }
   ],
   "source": [
    "array1d=np.arange(1,10)\n",
    "array2d=array1d.reshape(3,3)\n",
    "print(\"array2d:\\n\",array2d)\n",
    "\n",
    "print('array2d[0:2,0:2]\\n',array2d[0:2,0:2])\n",
    "print('array2d[1:3,0:3]\\n',array2d[1:3,0:3])\n",
    "print('array2d[1:3,:]\\n',array2d[1:3,:])\n",
    "print('array2d[:,:]\\n',array2d[:,:])\n",
    "print('array2d[:2,1:]\\n',array2d[:2,1:])\n",
    "print('array2d[:2,0]\\n',array2d[:2,0])\n",
    "\n",
    "\n",
    "\n",
    "\n"
   ]
  },
  {
   "cell_type": "code",
   "execution_count": 67,
   "metadata": {},
   "outputs": [
    {
     "name": "stdout",
     "output_type": "stream",
     "text": [
      "[1 2 3]\n",
      "[4 5 6]\n",
      "array2d[0] shape: (3,) array2d[1] shape: (3,)\n"
     ]
    }
   ],
   "source": [
    "print(array2d[0])\n",
    "print(array2d[1])\n",
    "print('array2d[0] shape:',array2d[0].shape\n",
    ",\"array2d[1] shape:\",array2d[1].shape)\n",
    "\n"
   ]
  },
  {
   "cell_type": "markdown",
   "metadata": {},
   "source": [
    "팬시 인덱싱"
   ]
  },
  {
   "cell_type": "code",
   "execution_count": 74,
   "metadata": {},
   "outputs": [
    {
     "name": "stdout",
     "output_type": "stream",
     "text": [
      "[[1 2 3]\n",
      " [4 5 6]\n",
      " [7 8 9]]\n",
      "array2d[0,1],2=> [3, 6]\n"
     ]
    }
   ],
   "source": [
    "array1d=np.arange(1,10)\n",
    "array2d=array1d.reshape(3,3)\n",
    "print(array2d)\n",
    "\n",
    "array3=array2d[[0,1],2]\n",
    "print('array2d[0,1],2=>',array3.tolist())"
   ]
  },
  {
   "cell_type": "markdown",
   "metadata": {},
   "source": [
    "불린 인덱싱"
   ]
  },
  {
   "cell_type": "code",
   "execution_count": 78,
   "metadata": {},
   "outputs": [
    {
     "name": "stdout",
     "output_type": "stream",
     "text": [
      "array1d>5 불린 인덱싱 결과 값: [6 7 8 9]\n"
     ]
    }
   ],
   "source": [
    "array1d=np.arange(1,10)\n",
    "array3=array1d[array1d>5]\n",
    "print('array1d>5 불린 인덱싱 결과 값:',array3)"
   ]
  },
  {
   "cell_type": "code",
   "execution_count": 79,
   "metadata": {},
   "outputs": [
    {
     "data": {
      "text/plain": [
       "array([False, False, False, False, False,  True,  True,  True,  True])"
      ]
     },
     "execution_count": 79,
     "metadata": {},
     "output_type": "execute_result"
    }
   ],
   "source": [
    "array1d>5"
   ]
  },
  {
   "cell_type": "markdown",
   "metadata": {},
   "source": [
    "행렬의 정렬"
   ]
  },
  {
   "cell_type": "code",
   "execution_count": 89,
   "metadata": {},
   "outputs": [
    {
     "name": "stdout",
     "output_type": "stream",
     "text": [
      "원본 행렬: [3 1 9 5]\n",
      "np.sort()호출 후 반환된 정렬 행렬: [1 3 5 9]\n"
     ]
    }
   ],
   "source": [
    "org_array=np.array([3,1,9,5])\n",
    "print('원본 행렬:',org_array)\n",
    "sort_array1=np.sort(org_array)\n",
    "print('np.sort()호출 후 반환된 정렬 행렬:',sort_array1)"
   ]
  },
  {
   "cell_type": "code",
   "execution_count": 90,
   "metadata": {},
   "outputs": [
    {
     "name": "stdout",
     "output_type": "stream",
     "text": [
      "np.sort()호출 후 원본 행렬: [3 1 9 5]\n",
      "org.array.sort()호출 후 반환된 행렬: None\n",
      "org.array.sort()호출 후 원본 행렬: [1 3 5 9]\n"
     ]
    }
   ],
   "source": [
    "print('np.sort()호출 후 원본 행렬:',org_array)\n",
    "sort_array2=org_array.sort()\n",
    "print('org.array.sort()호출 후 반환된 행렬:',sort_array2)\n",
    "print('org.array.sort()호출 후 원본 행렬:',org_array)"
   ]
  },
  {
   "cell_type": "code",
   "execution_count": 92,
   "metadata": {},
   "outputs": [
    {
     "name": "stdout",
     "output_type": "stream",
     "text": [
      "내림차순으로 정렬: [9 5 3 1]\n"
     ]
    }
   ],
   "source": [
    "sort_array1_desc=np.sort(org_array)[::-1]\n",
    "print('내림차순으로 정렬:',sort_array1_desc\n",
    ")\n"
   ]
  },
  {
   "cell_type": "code",
   "execution_count": null,
   "metadata": {},
   "outputs": [],
   "source": []
  },
  {
   "cell_type": "markdown",
   "metadata": {},
   "source": [
    "4 판다스"
   ]
  },
  {
   "cell_type": "code",
   "execution_count": 93,
   "metadata": {},
   "outputs": [],
   "source": [
    "import pandas as pd"
   ]
  },
  {
   "cell_type": "code",
   "execution_count": null,
   "metadata": {},
   "outputs": [],
   "source": [
    "print('test2')"
   ]
  },
  {
   "cell_type": "code",
   "execution_count": null,
   "metadata": {},
   "outputs": [],
   "source": []
  }
 ],
 "metadata": {
  "kernelspec": {
   "display_name": "mcl1",
   "language": "python",
   "name": "python3"
  },
  "language_info": {
   "codemirror_mode": {
    "name": "ipython",
    "version": 3
   },
   "file_extension": ".py",
   "mimetype": "text/x-python",
   "name": "python",
   "nbconvert_exporter": "python",
   "pygments_lexer": "ipython3",
   "version": "3.7.16"
  }
 },
 "nbformat": 4,
 "nbformat_minor": 2
}
